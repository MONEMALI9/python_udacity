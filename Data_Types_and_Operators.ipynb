{
 "cells": [
  {
   "cell_type": "markdown",
   "metadata": {},
   "source": [
    "# Welcome to Introduction to Python!"
   ]
  },
  {
   "cell_type": "markdown",
   "metadata": {},
   "source": [
    "In this course, we use Python version 3 (or simply Python 3).<br> \n",
    "If you'd like more details on previous versions of Python and how version 3 differs from previous versions,<br>\n",
    "check out the [History of Python](https://en.wikipedia.org/wiki/History_of_Python) on Wikipedia.<br>\n",
    "If you're new to Python or programming in general, this article will make more sense after you've completed a lesson or two, so you may want to hold off for now. <br>\n",
    "All you need to know now is that your solution code for the programming exercises. <br>\n",
    "in this course will be graded based on Python 3 code.<br>"
   ]
  },
  {
   "cell_type": "markdown",
   "metadata": {},
   "source": [
    "## Programming in Python\n",
    "As you learn Python throughout this course, there are a few things you should keep in mind.<br>\n",
    "1. Python is case sensitive.<br>\n",
    "2. Spacing is important.<br>\n",
    "3. Use error messages to help you learn.<br>\n",
    "\n",
    "Let’s get started!"
   ]
  },
  {
   "cell_type": "markdown",
   "metadata": {},
   "source": [
    "## Summary"
   ]
  },
  {
   "cell_type": "markdown",
   "metadata": {},
   "source": [
    "### Lesson Summary\n",
    "You learned a ton in this lesson! To summarize, here's a recap of the data types and operators we covered.\n",
    "\n",
    "### Data Types\n",
    "We covered four important data types that you'll use all the time in programming:\n",
    "\n",
    "1. Data Type\n",
    "2. Constructor\n",
    "3. Example:int | int() float | float() | string | '' or \"\" or str() | \"this is a string\" | | bool | bool() | True or False |"
   ]
  },
  {
   "cell_type": "markdown",
   "metadata": {},
   "source": [
    "### Operators\n",
    "We also covered four useful sets of operators:"
   ]
  },
  {
   "cell_type": "markdown",
   "metadata": {},
   "source": [
    "<img src=\"img/arithmetic-assignment.png\" style = \"height : 500px\" />"
   ]
  },
  {
   "cell_type": "markdown",
   "metadata": {},
   "source": [
    "<img src=\"img/comparison-logical.png\" style = \"height : 500px\">"
   ]
  },
  {
   "cell_type": "markdown",
   "metadata": {},
   "source": [
    "## Data Types and Operators\n",
    "Welcome to this lesson on Data Types and Operators! You'll learn about:\n",
    "\n",
    "1. Data Types: Integers, Floats, Booleans, Strings\n",
    "3. Operators: Arithmetic, Assignment, Comparison, Logical\n",
    "3. Built-In Functions, Type Conversion\n",
    "4. Whitespace and Style Guidelines"
   ]
  },
  {
   "cell_type": "markdown",
   "metadata": {},
   "source": [
    "### Arithmetic Operators\n",
    "\n",
    "Arithmetic operators:\n",
    "1. [+] Addition.\n",
    "2. [-] Subtraction.\n",
    "3. [*] Multiplication.\n",
    "4. [/] Division.\n",
    "5. [%] Mod (the remainder after dividing).\n",
    "6. [**] Exponentiation (note that ^ does not do this operation, as you might have seen in other languages).\n",
    "7. [//] Divides and rounds down to the nearest integer.\n",
    "\n",
    "The usual order of mathematical operations holds in Python, which you can review in this Math Forum [page](https://www.nctm.org/classroomresources/) if needed.<br>\n",
    "\n",
    "Bitwise operators are special operators in Python that you can learn more about [here](https://wiki.python.org/moin/BitwiseOperators) if you'd like.<br>\n",
    "\n",
    "#### Examples:\n",
    "1. print(3 + 5) # 8\n",
    "2. print(1 + 2 + 3 * 3) # 12\n",
    "3. print(3 ** 2) # 9\n",
    "4. print(9 % 2) # 1"
   ]
  },
  {
   "cell_type": "markdown",
   "metadata": {},
   "source": [
    "### Quiz: Arithmetic Operators\n",
    "\n",
    "Quiz: Average Electricity Bill\n",
    "It's time to try a calculation in Python!\n",
    "\n",
    "My electricity bills for the last three months have been $23, $32 and $64.<br> \n",
    "What is the average monthly electricity bill over the three month period?<br>\n",
    "Write an expression to calculate the mean, and use print() to view the result."
   ]
  },
  {
   "cell_type": "code",
   "execution_count": 1,
   "metadata": {},
   "outputs": [
    {
     "name": "stdout",
     "output_type": "stream",
     "text": [
      "39.666666666666664\n"
     ]
    }
   ],
   "source": [
    "# Write an expression that calculates the average of 23, 32 and 64\n",
    "summation = 23 + 32 + 64\n",
    "num_months = 3\n",
    "# Place the expression in this print statement\n",
    "avg = summation/num_months\n",
    "print(avg)"
   ]
  },
  {
   "cell_type": "markdown",
   "metadata": {},
   "source": [
    "Quiz: Calculate : \n",
    "\n",
    "In this quiz you're going to do some calculations for a tiler.<br> \n",
    "Two parts of a floor need tiling.<br> \n",
    "One part is 9 tiles wide by 7 tiles long, the other is 5 tiles wide by 7 tiles long. \n",
    "Tiles come in packages of 6.<br>\n",
    "\n",
    "1. How many tiles are needed?\n",
    "2. You buy 17 packages of tiles containing 6 tiles each. How many tiles will be left over?"
   ]
  },
  {
   "cell_type": "code",
   "execution_count": 2,
   "metadata": {},
   "outputs": [
    {
     "name": "stdout",
     "output_type": "stream",
     "text": [
      "98\n",
      "4\n"
     ]
    }
   ],
   "source": [
    "# Fill this in with an expression that calculates how many tiles are needed.\n",
    "print(9*7 + 5*7)\n",
    "\n",
    "# Fill this in with an expression that calculates how many tiles will be left over.\n",
    "print(17*6 - (9*7 + 5*7))"
   ]
  },
  {
   "cell_type": "markdown",
   "metadata": {},
   "source": [
    "### Variables and Assignment Operators\n",
    "Variables and Assignment Operators:\n",
    "From this page, you will get your first look at variables in Python.<br> \n",
    "There are three videos in this concept to show you some different cases you might run into!"
   ]
  },
  {
   "cell_type": "markdown",
   "metadata": {},
   "source": [
    "### Variables I\n",
    "Variables are used all the time in Python! Below is the example you saw in the video where we performed the following:\n",
    "\n",
    "mv_population = 74728\n",
    "\n",
    "Here mv_population is a variable, which holds the value of 74728.<br> \n",
    "This assigns the item on the right to the name on the left.<br>\n",
    "which is actually a little different than mathematical equality, as 74728 does not hold the value of mv_population.<br>\n",
    "\n",
    "In any case, whatever term is on the left side, is now a name for whatever value is on the right side.<br>\n",
    "Once a value has been assigned to a variable name, you can access the value from the variable name."
   ]
  },
  {
   "cell_type": "markdown",
   "metadata": {},
   "source": [
    "### Variables II\n",
    "In this video you saw that the following two are equivalent in terms of assignment:<br>\n",
    "\n",
    "x = 3<br>\n",
    "y = 4<br>\n",
    "z = 5<br>\n",
    "\n",
    "and<br>\n",
    "\n",
    "x, y, z = 3, 4, 5<br>\n",
    "\n",
    "However, the above isn't a great way to assign variables in most cases, because our variable names should be descriptive of the values they hold.<br>\n",
    "\n",
    "Besides writing variable names that are descriptive, there are a few things to watch out for when naming variables in Python.<br>\n",
    "\n",
    "1. Only use ordinary letters, numbers and underscores in your variable names. They can’t have spaces, and need to start with a letter or underscore.\n",
    "\n",
    "2. You can’t use Python's reserved words, or \"keywords,\" as variable names.<br>There are reserved words in every programming language that have important purposes, and you’ll learn about some of these throughout this course.<br> Creating names that are descriptive of the values often will help you avoid using any of these keywords.<br> Here you can see a [table of Python's reserved words](https://docs.python.org/3/reference/lexical_analysis.html#keywords).\n",
    "\n",
    "3. The pythonic way to name variables is to use all lowercase letters and underscores to separate words.\n",
    "\n",
    "YES my_height = 58 my_lat = 40 my_long = 105 <br> NO my height = 58 MYLONG = 40 MyLat = 105<br>\n",
    "\n",
    "Though the last two of these would work in python, they are not pythonic ways to name variables.<br> The way we name variables is called snake case, because we tend to connect the words with underscores.<br>"
   ]
  },
  {
   "cell_type": "markdown",
   "metadata": {},
   "source": [
    "Example:\n",
    "\n",
    "1. mv_population = 74728\n",
    "2. mv_population = 74728 + 4000 - 600\n",
    "3. print(mv_population) # 78128\n",
    "\n",
    "Assignment Operators:\n",
    "Below are the assignment operators from the video.<br> You can also use *= in a similar way, but this is less common than the operations shown below.<br> You can find some practice with much of what we have already covered [here](https://www.programiz.com/python-programming/operators)."
   ]
  },
  {
   "cell_type": "markdown",
   "metadata": {},
   "source": [
    "<img src=\"img/screen-shot-2018-01-30-at-5.14.39-pm.png\" style = \"height : 500px\">"
   ]
  },
  {
   "cell_type": "markdown",
   "metadata": {},
   "source": [
    "### Quiz: Variables and Assignment Operators\n",
    "Quiz: Assign and Modify Variables\n",
    "Now it's your turn to work with variables.<br> The comments in this quiz (the lines that begin with #) have instructions for creating and modifying variables.<br> After each comment write a line of code that implements the instruction.<br>\n",
    "\n",
    "Note that this code uses [scientific notation](https://en.wikipedia.org/wiki/Scientific_notation) to define large numbers.<br> 4.445e8 is equal to 4.445 *10* * 8 which is equal to 444500000.0."
   ]
  },
  {
   "cell_type": "code",
   "execution_count": 7,
   "metadata": {},
   "outputs": [
    {
     "name": "stdout",
     "output_type": "stream",
     "text": [
      "447627500.0\n"
     ]
    }
   ],
   "source": [
    "## The current volume of a water reservoir (in cubic metres)\n",
    "reservoir_volume = 4.445e8\n",
    "## The amount of rainfall from a storm (in cubic metres)\n",
    "rainfall = 5e6\n",
    "\n",
    "## decrease the rainfall variable by 10% to account for runoff\n",
    "rainfall *= .9\n",
    "\n",
    "## add the rainfall variable to the reservoir_volume variable\n",
    "reservoir_volume += rainfall\n",
    "\n",
    "## increase reservoir_volume by 5% to account for stormwater that flows\n",
    "## into the reservoir in the days following the storm\n",
    "reservoir_volume *= 1.05\n",
    "\n",
    "## decrease reservoir_volume by 5% to account for evaporation\n",
    "reservoir_volume *= 0.95\n",
    "\n",
    "## subtract 2.5e5 cubic metres from reservoir_volume to account for water\n",
    "## that's piped to arid regions.\n",
    "reservoir_volume -= 2.5e5 \n",
    "\n",
    "## print the new value of the reservoir_volume variable\n",
    "print(reservoir_volume)"
   ]
  },
  {
   "cell_type": "markdown",
   "metadata": {},
   "source": [
    "## Integers and Floats"
   ]
  },
  {
   "cell_type": "markdown",
   "metadata": {},
   "source": [
    "### Integers and Floats\n",
    "There are two Python data types that could be used for numeric values:<br>\n",
    ">>int - for integer values<br>\n",
    "float - for decimal or floating point values\n",
    "\n",
    "You can create a value that follows the data type by using the following syntax:<br>\n",
    "\n",
    ">>x = int(4.7)   # x is now an integer 4<br>\n",
    "y = float(4)   # y is now a float of 4.0\n",
    "\n",
    "You can check the type by using the type function:<br>\n",
    ">>> print(type(x))\n",
    "int<br>\n",
    ">>> print(type(y))\n",
    "float"
   ]
  },
  {
   "cell_type": "markdown",
   "metadata": {},
   "source": [
    "Because the float, or approximation,<br>for 0.1 is actually slightly more than 0.1,<br> when we add several of them together we can see the difference between the mathematically correct answer and the one that Python creates.\n",
    "\n",
    ">>> print(.1 + .1 + .1 == .3)\n",
    "False<br>\n",
    "\n",
    "You can see more on this [here](https://docs.python.org/3/tutorial/floatingpoint.html)."
   ]
  },
  {
   "cell_type": "markdown",
   "metadata": {},
   "source": [
    "### Python Best Practices\n",
    "For all the best practices, [see the PEP8 Guidelines](https://peps.python.org/pep-0008/).<br>\n",
    "\n",
    "You can use the atom package [linter-python-pep8](https://github.blog/2022-06-08-sunsetting-atom/) to use pep8 within your own programming environment in the Atom text editor, but more on this later.<br> If you aren't familiar with text editors yet, and you are performing all of your programming in the classroom, no need to worry about this right now.<br>\n",
    "\n",
    "Follow these guidelines to make other programmers and future you happy!\n",
    "\n",
    ">>Good<br>\n",
    "print(4 + 5)\n",
    "\n",
    ">>Bad<br>\n",
    "print(                       4 + 5)\n",
    "\n",
    "You should limit each line of code to 80 characters, though 99 is okay for certain use cases.<br> You can thank [IBM for this ruling.](https://softwareengineering.stackexchange.com/questions/148677/why-is-80-characters-the-standard-limit-for-code-width)\n",
    "\n",
    "Why are these conventions important? Although how you format the code doesn’t affect how it runs,<br> following standard style guidelines makes code easier to read and consistent among different developers on a team."
   ]
  },
  {
   "cell_type": "markdown",
   "metadata": {},
   "source": [
    "## Booleans, Comparison Operators, and Logical Operators"
   ]
  },
  {
   "cell_type": "markdown",
   "metadata": {},
   "source": [
    "#### Examples\n",
    "\n",
    ">>x = 42 > 43 # False<br>\n",
    "age = 14<br>\n",
    "is_teen = age > 12 and age < 20<br>\n",
    "print(is_teen) # True<br>"
   ]
  },
  {
   "cell_type": "markdown",
   "metadata": {},
   "source": [
    "### Booleans, Comparison Operators, and Logical Operators\n",
    "The bool data type holds one of the values True or False, which are often encoded as 1 or 0, respectively.<br>\n",
    "There are 6 comparison operators that are common to see in order to obtain a bool value:"
   ]
  },
  {
   "cell_type": "markdown",
   "metadata": {},
   "source": [
    "<img src=\"img/Opera Snapshot_2023-07-27_091027_learn.udacity.com.png\" style=\"height:400px\">\n",
    "<img src=\"img/Opera Snapshot_2023-07-27_091114_learn.udacity.com.png\" style=\"height:300px\">\n",
    "\n",
    "[Here](https://www.irishtimes.com/news/science/how-george-boole-s-zeroes-and-ones-changed-the-world-1.2014673) is more information on how George Boole changed the world!"
   ]
  },
  {
   "cell_type": "markdown",
   "metadata": {},
   "source": [
    "## Quiz: Booleans, Comparison Operators, and Logical Operators"
   ]
  },
  {
   "cell_type": "markdown",
   "metadata": {},
   "source": [
    "### Quiz: Which is denser, Rio or San Francisco?\n",
    "\n",
    "Try comparison operators in this quiz!<br> \n",
    "This code calculates the population densities of Rio de Janeiro and San Francisco.<br>\n",
    "\n",
    "Write code to compare these densities.<br> \n",
    "Is the population of San Francisco more dense than that of Rio de Janeiro? Print True if it is and False if not.<br>"
   ]
  },
  {
   "cell_type": "code",
   "execution_count": 1,
   "metadata": {},
   "outputs": [
    {
     "name": "stdout",
     "output_type": "stream",
     "text": [
      "False\n"
     ]
    }
   ],
   "source": [
    "sf_population, sf_area = 864816, 231.89\n",
    "\n",
    "rio_population, rio_area = 6453682, 486.5\n",
    "\n",
    "san_francisco_pop_density = sf_population/sf_area\n",
    "\n",
    "rio_de_janeiro_pop_density = rio_population/rio_area\n",
    "\n",
    "# Write code that prints True if San Francisco is denser than Rio, and False otherwise\n",
    "if(san_francisco_pop_density > rio_de_janeiro_pop_density):\n",
    "    print(True)\n",
    "    \n",
    "elif(rio_de_janeiro_pop_density > san_francisco_pop_density):\n",
    "    print(False)"
   ]
  },
  {
   "cell_type": "markdown",
   "metadata": {},
   "source": [
    "## Strings"
   ]
  },
  {
   "cell_type": "markdown",
   "metadata": {},
   "source": [
    "### Strings\n",
    "Strings in Python are shown as the variable type str.<br> You can define a string with either double quotes \" or single quotes '.<br> If the string you are creating actually has one of these two values in it, then you need to be careful to assure your code doesn't give an error."
   ]
  },
  {
   "cell_type": "markdown",
   "metadata": {},
   "source": [
    ">>> my_string = 'this is a string!'<br>\n",
    ">>> my_string2 = \"this is also a string!!!\"\n",
    "\n",
    "You can also include a \\ in your string to be able to include one of these quotes:<br>\n",
    "\n",
    ">>> this_string = 'Simon\\'s skateboard is in the garage.'<br>\n",
    ">>> print(this_string)\n",
    "\n",
    "Simon's skateboard is in the garage."
   ]
  },
  {
   "cell_type": "markdown",
   "metadata": {},
   "source": [
    "If we don't use this, notice we get the following error:<br>\n",
    "\n",
    ">> this_string = 'Simon's skateboard is in the garage.'<br>\n",
    "\n",
    "'''\n",
    "File <\"ipython-input-20-e80562c2a290\">, line 1<br>\n",
    "this_string = 'Simon's skateboard is in the garage.'<br>\n",
    "'''                         ^\n",
    "SyntaxError: invalid syntax"
   ]
  },
  {
   "cell_type": "markdown",
   "metadata": {},
   "source": [
    "### The len() function\n",
    "len() is a built-in Python function that returns the length of an object, like a string.<br> The length of a string is the number of characters in the string. This will always be an integer.\n",
    "\n",
    "There is an example above, but here's another one:<br>\n",
    "\n",
    ">>print(len(\"ababa\") / len(\"ab\"))<br>\n",
    "\n",
    "2.5<br>\n",
    "\n",
    "You know what the data types are for len(\"ababa\") and len(\"ab\"). Notice the data type of their resulting quotient here."
   ]
  },
  {
   "cell_type": "markdown",
   "metadata": {},
   "source": [
    "### Concatenation\n",
    "\n",
    ">>> first_word = 'Hello'<br>\n",
    ">>> second_word = 'There'\n",
    ">>> print(first_word + second_word)\n",
    "\n",
    "HelloThere\n",
    "\n",
    ">>> print(first_word + ' ' + second_word)<br>\n",
    "\n",
    "Hello There\n",
    "\n",
    ">>> print(first_word * 5)<br>\n",
    "\n",
    "HelloHelloHelloHelloHello\n",
    "\n",
    ">>> print(len(first_word))\n",
    "\n",
    "5"
   ]
  },
  {
   "cell_type": "markdown",
   "metadata": {},
   "source": [
    "### Indexing\n",
    "\n",
    ">>> first_word[0]\n",
    "\n",
    "H\n",
    "\n",
    ">>> first_word[1]\n",
    "\n",
    "e"
   ]
  },
  {
   "cell_type": "markdown",
   "metadata": {},
   "source": [
    "## Quiz: Strings"
   ]
  },
  {
   "cell_type": "markdown",
   "metadata": {},
   "source": [
    "### Quiz: Fix the Quote\n",
    "\n",
    "The line of code in the following quiz will cause a SyntaxError, thanks to the misuse of quotation marks.<br> First run it with Test Run to view the error message.<br> Then resolve the problem so that the quote (from [Henry Ford](https://www.goodreads.com/author/quotes/203714.Henry_Ford)) is correctly assigned to the variable ford_quote."
   ]
  },
  {
   "cell_type": "code",
   "execution_count": 2,
   "metadata": {},
   "outputs": [],
   "source": [
    "# TODO: Fix this string!\n",
    "ford_quote = 'Whether you think you can, or you think you can\\'t--you\\'re right.'\n",
    "\n",
    "# TODO: Fix this string!\n",
    "ford_quote = \"Whether you think you can, or you think you can't--you're right.\""
   ]
  },
  {
   "cell_type": "markdown",
   "metadata": {},
   "source": [
    "### Quiz: Write a Server Log Message\n",
    "In this programming quiz, you’re going to use what you’ve learned about strings to write a logging message for a server.<br>\n",
    "\n",
    "You’ll be provided with example data for a user, the time of their visit and the site they accessed.<br> You should use the variables provided and the techniques you’ve learned to print a log message like this one (with the username, url, and timestamp replaced with values from the appropriate variables):\n",
    "\n",
    "Yogesh accessed the site [http://petshop.com/pets/reptiles/pythons] at 16:20.<br>\n",
    "\n",
    "Use the Test Run button to see your results as you work on coding this piece by piece."
   ]
  },
  {
   "cell_type": "code",
   "execution_count": 3,
   "metadata": {},
   "outputs": [
    {
     "name": "stdout",
     "output_type": "stream",
     "text": [
      "Kinari accessed the site http://petshop.com/pets/mammals/cats at 04:50.\n"
     ]
    }
   ],
   "source": [
    "username = \"Kinari\"\n",
    "timestamp = \"04:50\"\n",
    "\n",
    "url = \"http://petshop.com/pets/mammals/cats\"\n",
    "\n",
    "# TODO: print a log message using the variables above.\n",
    "\n",
    "# The message should have the same format as this one:\n",
    "\n",
    "# \"Yogesh accessed the site http://petshop.com/pets/reptiles/pythons at 16:20.\"\n",
    "\n",
    "\n",
    "print(username+\" accessed the site \"+url +\" at \"+ timestamp +\".\")"
   ]
  },
  {
   "cell_type": "markdown",
   "metadata": {},
   "source": [
    "### Quiz: len()\n",
    "Use string concatenation and the len() function to find the length of a certain movie star's actual full name.<br> Store that length in the name_length variable.<br> Don't forget that there are spaces in between the different parts of a name!"
   ]
  },
  {
   "cell_type": "code",
   "execution_count": 4,
   "metadata": {},
   "outputs": [
    {
     "name": "stdout",
     "output_type": "stream",
     "text": [
      "True\n"
     ]
    }
   ],
   "source": [
    "given_name = \"William\"\n",
    "middle_names = \"Bradley\"\n",
    "family_name = \"Pitt\"\n",
    "\n",
    "name_length =  len(given_name+\" \"+middle_names+\" \"+family_name)\n",
    "# todo: calculate how long this name is\n",
    "name_length = len(given_name) + len(middle_names) + len(family_name) + 2\n",
    "\n",
    "# Now we check to make sure that the name fits within the driving license character limit\n",
    "\n",
    "# Nothing you need to do here\n",
    "driving_license_character_limit = 28\n",
    "\n",
    "print(name_length <= driving_license_character_limit)"
   ]
  },
  {
   "cell_type": "markdown",
   "metadata": {},
   "source": [
    "## Type and Type Conversion"
   ]
  },
  {
   "cell_type": "markdown",
   "metadata": {},
   "source": [
    "You have seen four data types so far:\n",
    "1. int\n",
    "2. float\n",
    "3. bool\n",
    "4. string\n",
    "\n",
    "You got a quick look at type() from an earlier video, and it can be used to check the data type of any variable you are working with.\n",
    "\n",
    ">>> print(type(633))<br>\n",
    "\n",
    "int\n",
    "\n",
    ">>> print(type(633.0))<br>\n",
    "\n",
    "float\n",
    "\n",
    ">>> print(type('633'))<br>\n",
    "\n",
    "str\n",
    "\n",
    ">>> print(type(True))<br>\n",
    "\n",
    "bool\n",
    "\n",
    "You saw that you can change variable types to perform different operations. For example,<br>\n",
    "\"0\" + \"5\"\n",
    "\n",
    "provides completely different output than<br>\n",
    "0 + 5\n",
    "\n",
    "What do you think the below would provide?<br>\n",
    "\"0\" + 5\n",
    "\n",
    "How about the code here:<br>\n",
    "0 + \"5\"\n",
    "\n",
    "Checking your variable types is really important to assure that you are retrieving the results you want when programming."
   ]
  },
  {
   "cell_type": "markdown",
   "metadata": {},
   "source": [
    "## Quiz: Type and Type Conversion"
   ]
  },
  {
   "cell_type": "markdown",
   "metadata": {},
   "source": [
    "### Type Playground\n",
    "Use this programming space with Test Run to experiment with types of objects.<br> Don't forget to use print to see the output of your code."
   ]
  },
  {
   "cell_type": "code",
   "execution_count": 5,
   "metadata": {},
   "outputs": [
    {
     "name": "stdout",
     "output_type": "stream",
     "text": [
      "<class 'str'>\n"
     ]
    }
   ],
   "source": [
    "print(type(\"4\"))"
   ]
  },
  {
   "cell_type": "markdown",
   "metadata": {},
   "source": [
    "### Quiz: Total Sales\n",
    "In this quiz, you’ll need to change the types of the input and output data in order to get the result you want.<br>\n",
    "\n",
    "Calculate and print the total sales for the week from the data provided.<br> \n",
    "Print out a string of the form \"This week's total sales: xxx\", where xxx will be the actual total of all the numbers.<br> You’ll need to change the type of the input data in order to calculate that total.<br>"
   ]
  },
  {
   "cell_type": "code",
   "execution_count": 9,
   "metadata": {},
   "outputs": [
    {
     "name": "stdout",
     "output_type": "stream",
     "text": [
      "This week's total sales: 529\n",
      "This week's total sales: 529\n"
     ]
    }
   ],
   "source": [
    "mon_sales = \"121\"\n",
    "tues_sales = \"105\"\n",
    "wed_sales = \"110\"\n",
    "thurs_sales = \"98\"\n",
    "fri_sales = \"95\"\n",
    "\n",
    "#TODO: Print a string with this format: This week's total sales: xxx\n",
    "\n",
    "mon_sales = int(mon_sales)\n",
    "tues_sales = int(tues_sales)\n",
    "wed_sales = int(wed_sales)\n",
    "thurs_sales = int(thurs_sales)\n",
    "fri_sales = int(fri_sales)\n",
    "\n",
    "r = mon_sales + tues_sales + wed_sales + thurs_sales + fri_sales\n",
    "\n",
    "#print(r)\n",
    "print(\"This week's total sales: \"+str(r))\n",
    "\n",
    "# You will probably need to write some lines of code before the print statement.\n",
    "weekly_sales = int(mon_sales) + int(tues_sales) + int(wed_sales) + int(thurs_sales) + int(fri_sales)\n",
    "weekly_sales = str(weekly_sales)  #convert the type back!!\n",
    "print(\"This week's total sales: \" + weekly_sales)"
   ]
  },
  {
   "cell_type": "markdown",
   "metadata": {},
   "source": [
    "## String Methods"
   ]
  },
  {
   "cell_type": "markdown",
   "metadata": {},
   "source": [
    "In this video you were introduced to methods. Methods are like some of the functions you have already seen:\n",
    "1. len(\"this\")\n",
    "2. type(12)\n",
    "3. print(\"Hello world\")\n",
    "\n",
    "These three above are functions - notice they use parentheses, and accept one or more arguments.<br> \n",
    "Functions will be studied in much more detail in a later lesson!<br>\n",
    "\n",
    "A method in Python behaves similarly to a function.<br> Methods actually are functions that are called using dot notation.<br> For example, lower() is a string method that can be used like this, on a string called \"sample string\": sample_string.lower().\n",
    "\n",
    "Methods are specific to the data type for a particular variable.<br> So there are some built-in methods that are available for all strings, different methods that are available for all integers, etc."
   ]
  },
  {
   "cell_type": "markdown",
   "metadata": {},
   "source": [
    "<img src=\"img/Opera Snapshot_2023-07-27_165721_learn.udacity.com.png\" style=\"height : 300px\">"
   ]
  },
  {
   "cell_type": "markdown",
   "metadata": {},
   "source": [
    "You can see that the count and find methods both take another argument. However, the .islower() method does not accept another argument."
   ]
  },
  {
   "cell_type": "code",
   "execution_count": 1,
   "metadata": {},
   "outputs": [],
   "source": [
    "my_string = \"sebastian thrun\""
   ]
  },
  {
   "cell_type": "code",
   "execution_count": 2,
   "metadata": {},
   "outputs": [
    {
     "data": {
      "text/plain": [
       "True"
      ]
     },
     "execution_count": 2,
     "metadata": {},
     "output_type": "execute_result"
    }
   ],
   "source": [
    "my_string.islower()"
   ]
  },
  {
   "cell_type": "code",
   "execution_count": 3,
   "metadata": {},
   "outputs": [
    {
     "data": {
      "text/plain": [
       "2"
      ]
     },
     "execution_count": 3,
     "metadata": {},
     "output_type": "execute_result"
    }
   ],
   "source": [
    "my_string.count('a')"
   ]
  },
  {
   "cell_type": "code",
   "execution_count": 4,
   "metadata": {},
   "outputs": [
    {
     "data": {
      "text/plain": [
       "3"
      ]
     },
     "execution_count": 4,
     "metadata": {},
     "output_type": "execute_result"
    }
   ],
   "source": [
    "my_string.find('a')"
   ]
  },
  {
   "cell_type": "markdown",
   "metadata": {},
   "source": [
    "One important string method: format()"
   ]
  },
  {
   "cell_type": "code",
   "execution_count": 5,
   "metadata": {},
   "outputs": [
    {
     "name": "stdout",
     "output_type": "stream",
     "text": [
      "Maria loves math and statistics\n"
     ]
    }
   ],
   "source": [
    "maria_string = \"Maria loves {} and {}\" \n",
    "print(maria_string.format(\"math\", \"statistics\"))"
   ]
  },
  {
   "cell_type": "markdown",
   "metadata": {},
   "source": [
    "More advanced students can learn more about the formal syntax for using the format() string method [here](https://docs.python.org/3.6/library/string.html#format-string-syntax)."
   ]
  },
  {
   "cell_type": "markdown",
   "metadata": {},
   "source": [
    "### Another important string method: split()"
   ]
  },
  {
   "cell_type": "markdown",
   "metadata": {},
   "source": []
  },
  {
   "cell_type": "code",
   "execution_count": 6,
   "metadata": {},
   "outputs": [
    {
     "data": {
      "text/plain": [
       "['The', 'cow', 'jumped', 'over', 'the', 'moon.']"
      ]
     },
     "execution_count": 6,
     "metadata": {},
     "output_type": "execute_result"
    }
   ],
   "source": [
    "new_str = \"The cow jumped over the moon.\"\n",
    "new_str.split()"
   ]
  },
  {
   "cell_type": "code",
   "execution_count": 9,
   "metadata": {},
   "outputs": [
    {
     "data": {
      "text/plain": [
       "['The', 'cow', 'jumped', 'over the moon.']"
      ]
     },
     "execution_count": 9,
     "metadata": {},
     "output_type": "execute_result"
    }
   ],
   "source": [
    "# Here  the separator is space, and the maxsplit argument is set to 3.\n",
    "new_str = \"The cow jumped over the moon.\"\n",
    "new_str.split(' ',3)"
   ]
  },
  {
   "cell_type": "code",
   "execution_count": 10,
   "metadata": {},
   "outputs": [
    {
     "data": {
      "text/plain": [
       "['The cow jumped over the moon', '']"
      ]
     },
     "execution_count": 10,
     "metadata": {},
     "output_type": "execute_result"
    }
   ],
   "source": [
    "#3. Using '.' or period as a separator.\n",
    "new_str = \"The cow jumped over the moon.\"\n",
    "new_str.split('.')"
   ]
  },
  {
   "cell_type": "code",
   "execution_count": 11,
   "metadata": {},
   "outputs": [
    {
     "data": {
      "text/plain": [
       "['The', 'cow', 'jumped', 'over the moon.']"
      ]
     },
     "execution_count": 11,
     "metadata": {},
     "output_type": "execute_result"
    }
   ],
   "source": [
    "#4. Using no separators but having a maxsplit argument of 3.\n",
    "new_str = \"The cow jumped over the moon.\"\n",
    "new_str.split(None,3)"
   ]
  },
  {
   "cell_type": "markdown",
   "metadata": {},
   "source": [
    "## Quiz: String Methods Practice"
   ]
  },
  {
   "cell_type": "code",
   "execution_count": 12,
   "metadata": {},
   "outputs": [],
   "source": [
    "# Remember, \\n is a special sequence of characters that causes a line break (a new line).\n",
    "verse = \"If you can keep your head when all about you\\n  \\\n",
    "    Are losing theirs and blaming it on you,\\nIf you can trust yourself when all men doubt you,\\n \\\n",
    "        But make allowance for their doubting too;\\nIf you can wait and not be tired by waiting,\\n \\\n",
    "            Or being lied about, don’t deal in lies,\\nOr being hated, don’t give way to hating,\\n \\\n",
    "                And yet don’t look too good, nor talk too wise:\"\n"
   ]
  },
  {
   "cell_type": "markdown",
   "metadata": {},
   "source": [
    "Use the code editor below to answer the following questions about verse and use Test Run to check your output in the quiz at the bottom of this page.\n",
    "1. What is the length of the string variable verse?\n",
    "2. What is the index of the first occurrence of the word 'and' in verse?\n",
    "3. What is the index of the last occurrence of the word 'you' in verse?\n",
    "4. What is the count of occurrences of the word 'you' in the verse?\n",
    "\n",
    "You will need to refer to Python's [string methods documentation](https://docs.python.org/2/library/string.html)."
   ]
  },
  {
   "cell_type": "code",
   "execution_count": 13,
   "metadata": {},
   "outputs": [
    {
     "name": "stdout",
     "output_type": "stream",
     "text": [
      "If you can keep your head when all about you\n",
      "  Are losing theirs and blaming it on you,\n",
      "If you can trust yourself when all men doubt you,\n",
      "  But make allowance for their doubting too;\n",
      "If you can wait and not be tired by waiting,\n",
      "  Or being lied about, don’t deal in lies,\n",
      "Or being hated, don’t give way to hating,\n",
      "  And yet don’t look too good, nor talk too wise:\n",
      "Verse has a length of 362 characters.\n",
      "The first occurence of the word 'and' occurs at the 65th index.\n",
      "The last occurence of the word 'you' occurs at the 186th index.\n",
      "The word 'you' occurs 8 times in the verse.\n"
     ]
    }
   ],
   "source": [
    "verse = \"If you can keep your head when all about you\\n  Are losing theirs and blaming it on you,\\nIf you can trust yourself when all men doubt you,\\n  But make allowance for their doubting too;\\nIf you can wait and not be tired by waiting,\\n  Or being lied about, don’t deal in lies,\\nOr being hated, don’t give way to hating,\\n  And yet don’t look too good, nor talk too wise:\"\n",
    "print(verse)\n",
    "\n",
    "# Use the appropriate functions and methods to answer the questions above\n",
    "\n",
    "# Bonus: practice using .format() to output your answers in descriptive messages!\n",
    "print(\"Verse has a length of {} characters.\".format(len(verse)))\n",
    "print(\"The first occurence of the word 'and' occurs at the {}th index.\".format(verse.find('and')))\n",
    "print(\"The last occurence of the word 'you' occurs at the {}th index.\".format(verse.rfind('you')))\n",
    "print(\"The word 'you' occurs {} times in the verse.\".format(verse.count('you')))"
   ]
  },
  {
   "cell_type": "code",
   "execution_count": 14,
   "metadata": {},
   "outputs": [
    {
     "name": "stdout",
     "output_type": "stream",
     "text": [
      "Verse has a length of 362 characters.\n",
      "The first occurence of the word 'and' occurs at the 65th index.\n",
      "The last occurence of the word 'you' occurs at the 186th index.\n",
      "The word 'you' occurs 8 times in the verse.\n"
     ]
    }
   ],
   "source": [
    "message = \"Verse has a length of {} characters.\\nThe first occurence of the \\\n",
    "word 'and' occurs at the {}th index.\\nThe last occurence of the word 'you' \\\n",
    "occurs at the {}th index.\\nThe word 'you' occurs {} times in the verse.\"\n",
    "\n",
    "length = len(verse)\n",
    "first_idx = verse.find('and')\n",
    "last_idx = verse.rfind('you')\n",
    "count = verse.count('you')\n",
    "\n",
    "print(message.format(length, first_idx, last_idx, count))"
   ]
  },
  {
   "cell_type": "markdown",
   "metadata": {},
   "source": [
    "## What's Next?\n",
    "Now that you are familiar with some basic data types and operators,<br> \n",
    "in the next lesson, you'll learn about data structures, where you organize and group together these data types into different containers.<br>\n",
    "You'll also learn about the two remaining types of operators in Python, along with more useful built-in functions and methods.<br>"
   ]
  },
  {
   "cell_type": "markdown",
   "metadata": {},
   "source": [
    "! jupyter nbconvert testnotebook.ipynb --to python"
   ]
  },
  {
   "cell_type": "markdown",
   "metadata": {},
   "source": [
    "jupyter nbconvert --to pdf --output-dir=output_folder your_notebook.ipynb\n"
   ]
  },
  {
   "cell_type": "code",
   "execution_count": 3,
   "metadata": {},
   "outputs": [
    {
     "name": "stdout",
     "output_type": "stream",
     "text": [
      "This application is used to convert notebook files (*.ipynb)\n",
      "        to various other formats.\n",
      "\n",
      "        WARNING: THE COMMANDLINE INTERFACE MAY CHANGE IN FUTURE RELEASES.\n",
      "\n",
      "Options\n",
      "=======\n",
      "The options below are convenience aliases to configurable class-options,\n",
      "as listed in the \"Equivalent to\" description-line of the aliases.\n",
      "To see all configurable class-options for some <cmd>, use:\n",
      "    <cmd> --help-all\n",
      "\n",
      "--debug\n",
      "    set log level to logging.DEBUG (maximize logging output)\n",
      "    Equivalent to: [--Application.log_level=10]\n",
      "--show-config\n",
      "    Show the application's configuration (human-readable format)\n",
      "    Equivalent to: [--Application.show_config=True]\n",
      "--show-config-json\n",
      "    Show the application's configuration (json format)\n",
      "    Equivalent to: [--Application.show_config_json=True]\n",
      "--generate-config\n",
      "    generate default config file\n",
      "    Equivalent to: [--JupyterApp.generate_config=True]\n",
      "-y\n",
      "    Answer yes to any questions instead of prompting.\n",
      "    Equivalent to: [--JupyterApp.answer_yes=True]\n",
      "--execute\n",
      "    Execute the notebook prior to export.\n",
      "    Equivalent to: [--ExecutePreprocessor.enabled=True]\n",
      "--allow-errors\n",
      "    Continue notebook execution even if one of the cells throws an error and include the error message in the cell output (the default behaviour is to abort conversion). This flag is only relevant if '--execute' was specified, too.\n",
      "    Equivalent to: [--ExecutePreprocessor.allow_errors=True]\n",
      "--stdin\n",
      "    read a single notebook file from stdin. Write the resulting notebook with default basename 'notebook.*'\n",
      "    Equivalent to: [--NbConvertApp.from_stdin=True]\n",
      "--stdout\n",
      "    Write notebook output to stdout instead of files.\n",
      "    Equivalent to: [--NbConvertApp.writer_class=StdoutWriter]\n",
      "--inplace\n",
      "    Run nbconvert in place, overwriting the existing notebook (only \n",
      "            relevant when converting to notebook format)\n",
      "    Equivalent to: [--NbConvertApp.use_output_suffix=False --NbConvertApp.export_format=notebook --FilesWriter.build_directory=]\n",
      "--clear-output\n",
      "    Clear output of current file and save in place, \n",
      "            overwriting the existing notebook.\n",
      "    Equivalent to: [--NbConvertApp.use_output_suffix=False --NbConvertApp.export_format=notebook --FilesWriter.build_directory= --ClearOutputPreprocessor.enabled=True]\n",
      "--no-prompt\n",
      "    Exclude input and output prompts from converted document.\n",
      "    Equivalent to: [--TemplateExporter.exclude_input_prompt=True --TemplateExporter.exclude_output_prompt=True]\n",
      "--no-input\n",
      "    Exclude input cells and output prompts from converted document. \n",
      "            This mode is ideal for generating code-free reports.\n",
      "    Equivalent to: [--TemplateExporter.exclude_output_prompt=True --TemplateExporter.exclude_input=True --TemplateExporter.exclude_input_prompt=True]\n",
      "--allow-chromium-download\n",
      "    Whether to allow downloading chromium if no suitable version is found on the system.\n",
      "    Equivalent to: [--WebPDFExporter.allow_chromium_download=True]\n",
      "--disable-chromium-sandbox\n",
      "    Disable chromium security sandbox when converting to PDF..\n",
      "    Equivalent to: [--WebPDFExporter.disable_sandbox=True]\n",
      "--show-input\n",
      "    Shows code input. This is flag is only useful for dejavu users.\n",
      "    Equivalent to: [--TemplateExporter.exclude_input=False]\n",
      "--log-level=<Enum>\n",
      "    Set the log level by value or name.\n",
      "    Choices: any of [0, 10, 20, 30, 40, 50, 'DEBUG', 'INFO', 'WARN', 'ERROR', 'CRITICAL']\n",
      "    Default: 30\n",
      "    Equivalent to: [--Application.log_level]\n",
      "--config=<Unicode>\n",
      "    Full path of a config file.\n",
      "    Default: ''\n",
      "    Equivalent to: [--JupyterApp.config_file]\n",
      "--to=<Unicode>\n",
      "    The export format to be used, either one of the built-in formats\n",
      "            ['HTML_NoInput', 'LaTeX_NoInput', 'PDF_NoInput', 'asciidoc', 'custom', 'html', 'latex', 'markdown', 'notebook', 'pdf', 'python', 'rst', 'script', 'slides', 'webpdf']\n",
      "            or a dotted object name that represents the import path for an\n",
      "            ``Exporter`` class\n",
      "    Default: ''\n",
      "    Equivalent to: [--NbConvertApp.export_format]\n",
      "--template=<Unicode>\n",
      "    Name of the template to use\n",
      "    Default: ''\n",
      "    Equivalent to: [--TemplateExporter.template_name]\n",
      "--template-file=<Unicode>\n",
      "    Name of the template file to use\n",
      "    Default: None\n",
      "    Equivalent to: [--TemplateExporter.template_file]\n",
      "--writer=<DottedObjectName>\n",
      "    Writer class used to write the \n",
      "                                        results of the conversion\n",
      "    Default: 'FilesWriter'\n",
      "    Equivalent to: [--NbConvertApp.writer_class]\n",
      "--post=<DottedOrNone>\n",
      "    PostProcessor class used to write the\n",
      "                                        results of the conversion\n",
      "    Default: ''\n",
      "    Equivalent to: [--NbConvertApp.postprocessor_class]\n",
      "--output=<Unicode>\n",
      "    overwrite base name use for output files.\n",
      "                can only be used when converting one notebook at a time.\n",
      "    Default: ''\n",
      "    Equivalent to: [--NbConvertApp.output_base]\n",
      "--output-dir=<Unicode>\n",
      "    Directory to write output(s) to. Defaults\n",
      "                                  to output to the directory of each notebook. To recover\n",
      "                                  previous default behaviour (outputting to the current \n",
      "                                  working directory) use . as the flag value.\n",
      "    Default: ''\n",
      "    Equivalent to: [--FilesWriter.build_directory]\n",
      "--reveal-prefix=<Unicode>\n",
      "    The URL prefix for reveal.js (version 3.x).\n",
      "            This defaults to the reveal CDN, but can be any url pointing to a copy \n",
      "            of reveal.js. \n",
      "            For speaker notes to work, this must be a relative path to a local \n",
      "            copy of reveal.js: e.g., \"reveal.js\".\n",
      "            If a relative path is given, it must be a subdirectory of the\n",
      "            current directory (from which the server is run).\n",
      "            See the usage documentation\n",
      "            (https://nbconvert.readthedocs.io/en/latest/usage.html#reveal-js-html-slideshow)\n",
      "            for more details.\n",
      "    Default: ''\n",
      "    Equivalent to: [--SlidesExporter.reveal_url_prefix]\n",
      "--nbformat=<Enum>\n",
      "    The nbformat version to write.\n",
      "            Use this to downgrade notebooks.\n",
      "    Choices: any of [1, 2, 3, 4]\n",
      "    Default: 4\n",
      "    Equivalent to: [--NotebookExporter.nbformat_version]\n",
      "\n",
      "Examples\n",
      "--------\n",
      "\n",
      "    The simplest way to use nbconvert is\n",
      "\n",
      "            > jupyter nbconvert mynotebook.ipynb --to html\n",
      "\n",
      "            Options include ['HTML_NoInput', 'LaTeX_NoInput', 'PDF_NoInput', 'asciidoc', 'custom', 'html', 'latex', 'markdown', 'notebook', 'pdf', 'python', 'rst', 'script', 'slides', 'webpdf'].\n",
      "\n",
      "            > jupyter nbconvert --to latex mynotebook.ipynb\n",
      "\n",
      "            Both HTML and LaTeX support multiple output templates. LaTeX includes\n",
      "            'base', 'article' and 'report'.  HTML includes 'basic', 'lab' and \n",
      "            'classic'. You can specify the flavor of the format used.\n",
      "\n",
      "            > jupyter nbconvert --to html --template lab mynotebook.ipynb\n",
      "\n",
      "            You can also pipe the output to stdout, rather than a file\n",
      "\n",
      "            > jupyter nbconvert mynotebook.ipynb --stdout\n",
      "\n",
      "            PDF is generated via latex\n",
      "\n",
      "            > jupyter nbconvert mynotebook.ipynb --to pdf\n",
      "\n",
      "            You can get (and serve) a Reveal.js-powered slideshow\n",
      "\n",
      "            > jupyter nbconvert myslides.ipynb --to slides --post serve\n",
      "\n",
      "            Multiple notebooks can be given at the command line in a couple of \n",
      "            different ways:\n",
      "\n",
      "            > jupyter nbconvert notebook*.ipynb\n",
      "            > jupyter nbconvert notebook1.ipynb notebook2.ipynb\n",
      "\n",
      "            or you can specify the notebooks list in a config file, containing::\n",
      "\n",
      "                c.NbConvertApp.notebooks = [\"my_notebook.ipynb\"]\n",
      "\n",
      "            > jupyter nbconvert --config mycfg.py\n",
      "\n",
      "To see all available configurables, use `--help-all`.\n",
      "\n"
     ]
    },
    {
     "name": "stderr",
     "output_type": "stream",
     "text": [
      "[NbConvertApp] WARNING | pattern 'Data' matched no files\n",
      "[NbConvertApp] WARNING | pattern 'Types' matched no files\n",
      "[NbConvertApp] WARNING | pattern 'and' matched no files\n",
      "[NbConvertApp] WARNING | pattern 'Operators.ipynb' matched no files\n"
     ]
    }
   ],
   "source": [
    "! jupyter nbconvert --to pdf Data Types and Operators.ipynb"
   ]
  },
  {
   "cell_type": "code",
   "execution_count": 1,
   "metadata": {},
   "outputs": [
    {
     "name": "stderr",
     "output_type": "stream",
     "text": [
      "[NbConvertApp] Converting notebook Data_Types_and_Operators.ipynb to html\n",
      "[NbConvertApp] Writing 660804 bytes to Data_Types_and_Operators.html\n"
     ]
    }
   ],
   "source": [
    "! jupyter nbconvert --to html Data_Types_and_Operators.ipynb"
   ]
  },
  {
   "cell_type": "markdown",
   "metadata": {},
   "source": [
    ".replace('اللي موجود','اللي عايوزه', 'index')l; "
   ]
  }
 ],
 "metadata": {
  "kernelspec": {
   "display_name": "pyudavenv",
   "language": "python",
   "name": "python3"
  },
  "language_info": {
   "codemirror_mode": {
    "name": "ipython",
    "version": 3
   },
   "file_extension": ".py",
   "mimetype": "text/x-python",
   "name": "python",
   "nbconvert_exporter": "python",
   "pygments_lexer": "ipython3",
   "version": "3.7.8"
  },
  "orig_nbformat": 4
 },
 "nbformat": 4,
 "nbformat_minor": 2
}
