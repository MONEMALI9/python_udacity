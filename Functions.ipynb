{
 "cells": [
  {
   "cell_type": "markdown",
   "metadata": {},
   "source": [
    "# Functions"
   ]
  },
  {
   "cell_type": "markdown",
   "metadata": {},
   "source": [
    "## Functions\n",
    "Welcome to this lesson on Functions! You'll learn about:\n",
    "\n",
    "1. Defining Functions\n",
    "2. Variable Scope\n",
    "3. Documentation\n",
    "4. Lambda Expressions\n",
    "5. Iterators and Generators<br>\n",
    "You can think about functions as a way to take what you have already learned how to do, and put it in a holder that allows you to use it over and over again in an easy to use container."
   ]
  },
  {
   "cell_type": "markdown",
   "metadata": {},
   "source": [
    "## Defining Functions\n",
    "Example of a function definition:"
   ]
  },
  {
   "cell_type": "code",
   "execution_count": 22,
   "metadata": {},
   "outputs": [],
   "source": [
    "def cylinder_volume(height, radius):\n",
    "    pi = 3.14159\n",
    "    return height  *pi*  radius ** 2"
   ]
  },
  {
   "cell_type": "markdown",
   "metadata": {},
   "source": [
    "After defining the cylinder_volume function, we can call the function like this."
   ]
  },
  {
   "cell_type": "code",
   "execution_count": 23,
   "metadata": {},
   "outputs": [
    {
     "data": {
      "text/plain": [
       "282.7431"
      ]
     },
     "execution_count": 23,
     "metadata": {},
     "output_type": "execute_result"
    }
   ],
   "source": [
    "## This is called a function call statement.\n",
    "cylinder_volume(10, 3)"
   ]
  },
  {
   "cell_type": "markdown",
   "metadata": {},
   "source": [
    "A function definition includes several important parts."
   ]
  },
  {
   "cell_type": "markdown",
   "metadata": {},
   "source": [
    "### Function Header\n",
    "Let's start with the function header, which is the first line of a function definition.<br>\n",
    "\n",
    "1. The function header always starts with the def keyword, which indicates that this is a function definition.\n",
    "2. Then comes the function name (here, cylinder_volume), which follows the same naming conventions as variables.<br>You can revisit the naming conventions below.\n",
    "3. Immediately after the name are parentheses that may include arguments separated by commas (here, height and radius).<br>Arguments, or parameters, are values that are passed in as inputs when the function is called, and are used in the function body.<br>If a function doesn't take arguments, these parentheses are left empty.\n",
    "4. The header always end with a colon :."
   ]
  },
  {
   "cell_type": "markdown",
   "metadata": {},
   "source": [
    "### Function Body\n",
    "The rest of the function is contained in the body, which is where the function does its work.<br>\n",
    "\n",
    "1. The body of a function is the code indented after the header line. Here, it's the two lines that define pi and return the volume.\n",
    "2. Within this body, we can refer to the argument variables and define new variables, which can only be used within these indented lines.\n",
    "3. The body will often include a return statement, which is used to send back an output value from the function to the statement that called the function.<br> A return statement consists of the return keyword followed by an expression that is evaluated to get the output value for the function.<br> If there is no return statement, the function simply returns None."
   ]
  },
  {
   "cell_type": "markdown",
   "metadata": {},
   "source": [
    "### Naming Conventions for Functions\n",
    "Function names follow the same naming conventions as variables.<br>\n",
    "\n",
    "1. Only use ordinary letters, numbers and underscores in your function names.<br>They can’t have spaces, and need to start with a letter or underscore.\n",
    "2. You can’t use Python's reserved words or keywords for function names, as discussed earlier with variable names.<br> Here again is that table of Python's reserved words.\n",
    "3. Try to use descriptive names that can help readers understand what the function does."
   ]
  },
  {
   "cell_type": "markdown",
   "metadata": {},
   "source": [
    "### Print vs. Return in Functions\n",
    "Here are two valid functions. One returns a value and one simply prints a value, without returning anything.<br> Test run this code and experiment to understand the difference."
   ]
  },
  {
   "cell_type": "code",
   "execution_count": 24,
   "metadata": {},
   "outputs": [
    {
     "name": "stdout",
     "output_type": "stream",
     "text": [
      "Calling show_plus_ten...\n",
      "15\n",
      "Done calling\n",
      "This function returned: None\n",
      "\n",
      "Calling add_ten...\n",
      "Done calling\n",
      "This function returned: 15\n"
     ]
    }
   ],
   "source": [
    "# this prints something, but does not return anything\n",
    "def show_plus_ten(num):\n",
    "    print(num + 10)\n",
    "\n",
    "# this returns something\n",
    "def add_ten(num):\n",
    "    return(num + 10)\n",
    "\n",
    "print('Calling show_plus_ten...')\n",
    "return_value_1 = show_plus_ten(5)\n",
    "print('Done calling')\n",
    "print('This function returned: {}'.format(return_value_1))\n",
    "\n",
    "print('\\nCalling add_ten...')\n",
    "return_value_2 = add_ten(5)\n",
    "print('Done calling')\n",
    "print('This function returned: {}'.format(return_value_2))"
   ]
  },
  {
   "cell_type": "markdown",
   "metadata": {},
   "source": [
    "### Default Arguments\n",
    "We can add default arguments in a function to have default values for parameters that are unspecified in a function call."
   ]
  },
  {
   "cell_type": "code",
   "execution_count": 25,
   "metadata": {},
   "outputs": [],
   "source": [
    "def cylinder_volume(height, radius=5):\n",
    "    pi = 3.14159\n",
    "    return height  *pi*  radius ** 2"
   ]
  },
  {
   "cell_type": "markdown",
   "metadata": {},
   "source": [
    "In the example above, radius is set to 5 if that parameter is omitted in a function call.<br>\n",
    " If we call cylinder_volume(10), the function will use 10 as the height and 5 as the radius. However, if we call cylinder_volume(10, 7) the 7 will simply overwrite the default value of 5.<br>\n",
    "\n",
    "Also notice here we are passing values to our arguments by position.<br>\n",
    "It is possible to pass values in two ways - by position and by name.<br>\n",
    "Each of these function calls are evaluated the same way."
   ]
  },
  {
   "cell_type": "code",
   "execution_count": 26,
   "metadata": {},
   "outputs": [
    {
     "data": {
      "text/plain": [
       "1539.3791"
      ]
     },
     "execution_count": 26,
     "metadata": {},
     "output_type": "execute_result"
    }
   ],
   "source": [
    "cylinder_volume(10, 7)  # pass in arguments by position\n",
    "cylinder_volume(height=10, radius=7)  # pass in arguments by name"
   ]
  },
  {
   "cell_type": "markdown",
   "metadata": {},
   "source": [
    "## Quiz: Defining Functions\n",
    "Lots of Practice:<br>\n",
    "An excellent resource for putting your skills to use is to join communities like the one at [HackerRank](https://www.hackerrank.com).<br> Here you can work through tons of problems at your own pace! Once you master writing functions, you will be ready to build full applications using Python."
   ]
  },
  {
   "cell_type": "markdown",
   "metadata": {},
   "source": [
    "### Quiz: Population Density Function\n",
    "Write a function named population_density that takes two arguments, population and land_area, and returns a population density calculated from those values.<br> I've included two test cases that you can use to verify that your function works correctly.<br> Once you've written your function, use the Test Run button to test your code."
   ]
  },
  {
   "cell_type": "code",
   "execution_count": 27,
   "metadata": {},
   "outputs": [
    {
     "name": "stdout",
     "output_type": "stream",
     "text": [
      "expected result: 10, actual result: 10.0\n",
      "expected result: 7123.6902801, actual result: 7123.690280065897\n"
     ]
    }
   ],
   "source": [
    "def population_density(population, land_area):\n",
    "    return population/land_area\n",
    "\n",
    "# test cases for your function\n",
    "test1 = population_density(10, 1)\n",
    "expected_result1 = 10\n",
    "print(\"expected result: {}, actual result: {}\".format(expected_result1, test1))\n",
    "\n",
    "test2 = population_density(864816, 121.4)\n",
    "expected_result2 = 7123.6902801\n",
    "print(\"expected result: {}, actual result: {}\".format(expected_result2, test2))"
   ]
  },
  {
   "cell_type": "markdown",
   "metadata": {},
   "source": [
    "### Quiz: readable_timedelta\n",
    "Write a function named readable_timedelta.<br> The function should take one argument, an integer days, and return a string that says how many weeks and days that is.<br> For example, calling the function and printing the result like this:"
   ]
  },
  {
   "cell_type": "code",
   "execution_count": 28,
   "metadata": {},
   "outputs": [
    {
     "name": "stdout",
     "output_type": "stream",
     "text": [
      "1 week(s) and 3 day(s).\n"
     ]
    }
   ],
   "source": [
    "def readable_timedelta(days):\n",
    "    # use integer division to get the number of weeks\n",
    "    weeks = days // 7\n",
    "    # use % to get the number of days that remain\n",
    "    remainder = days % 7\n",
    "    return \"{} week(s) and {} day(s).\".format(weeks, remainder)\n",
    "\n",
    "# test your function\n",
    "print(readable_timedelta(10))"
   ]
  },
  {
   "cell_type": "markdown",
   "metadata": {},
   "source": [
    "### Variable Scope\n",
    "Variable scope refers to which parts of a program a variable can be referenced, or used, from.<br>\n",
    "\n",
    "It's important to consider scope when using variables in functions.<br>If a variable is created inside a function, it can only be used within that function.<br> Accessing it outside that function is not possible."
   ]
  },
  {
   "cell_type": "code",
   "execution_count": 29,
   "metadata": {},
   "outputs": [
    {
     "name": "stdout",
     "output_type": "stream",
     "text": [
      "hello\n"
     ]
    }
   ],
   "source": [
    "## This will result in an error\n",
    "def some_function():\n",
    "    word = \"hello\"\n",
    " \n",
    "print(word)"
   ]
  },
  {
   "cell_type": "markdown",
   "metadata": {},
   "source": [
    "In the example above and the example below, word is said to have scope that is only local to each function.<br> This means you can use the same name for different variables that are used in different functions."
   ]
  },
  {
   "cell_type": "code",
   "execution_count": 30,
   "metadata": {},
   "outputs": [],
   "source": [
    "## This works fine\n",
    "def some_function():\n",
    "    word = \"hello\"\n",
    " \n",
    "def another_function():\n",
    "    word = \"goodbye\""
   ]
  },
  {
   "cell_type": "markdown",
   "metadata": {},
   "source": [
    "Variables defined outside functions, as in the example below, can still be accessed within a function.<br>Here, word is said to have a global scope."
   ]
  },
  {
   "cell_type": "code",
   "execution_count": 31,
   "metadata": {},
   "outputs": [
    {
     "data": {
      "text/plain": [
       "\"\\nsome_function()\\nNotice that we can still access the value of the global variable `word` within this function. \\nHowever, the value of a global variable can not be __modified__ inside the function.\\nIf you want to modify that variable's value inside this function, it should be passed in as an argument.\\nYou'll see more on this in the next quiz.\\n\\nScope is essential to understanding how information is passed throughout programs in Python and really any programming language.\\n\""
      ]
     },
     "execution_count": 31,
     "metadata": {},
     "output_type": "execute_result"
    }
   ],
   "source": [
    "## This works fine\n",
    "word = \"hello\"\n",
    "\n",
    "def some_function():\n",
    "    print(word)\n",
    "'''\n",
    "some_function()\n",
    "Notice that we can still access the value of the global variable `word` within this function. \n",
    "However, the value of a global variable can not be __modified__ inside the function.\n",
    "If you want to modify that variable's value inside this function, it should be passed in as an argument.\n",
    "You'll see more on this in the next quiz.\n",
    "\n",
    "Scope is essential to understanding how information is passed throughout programs in Python and really any programming language.\n",
    "'''"
   ]
  },
  {
   "cell_type": "code",
   "execution_count": 32,
   "metadata": {},
   "outputs": [
    {
     "ename": "UnboundLocalError",
     "evalue": "local variable 'egg_count' referenced before assignment",
     "output_type": "error",
     "traceback": [
      "\u001b[1;31m---------------------------------------------------------------------------\u001b[0m",
      "\u001b[1;31mUnboundLocalError\u001b[0m                         Traceback (most recent call last)",
      "\u001b[1;32m~\\AppData\\Local\\Temp\\ipykernel_2128\\2151010175.py\u001b[0m in \u001b[0;36m<module>\u001b[1;34m\u001b[0m\n\u001b[0;32m      6\u001b[0m     \u001b[0megg_count\u001b[0m \u001b[1;33m+=\u001b[0m \u001b[1;36m12\u001b[0m \u001b[1;31m# purchase a dozen eggs\u001b[0m\u001b[1;33m\u001b[0m\u001b[1;33m\u001b[0m\u001b[0m\n\u001b[0;32m      7\u001b[0m \u001b[1;33m\u001b[0m\u001b[0m\n\u001b[1;32m----> 8\u001b[1;33m \u001b[0mbuy_eggs\u001b[0m\u001b[1;33m(\u001b[0m\u001b[1;33m)\u001b[0m\u001b[1;33m\u001b[0m\u001b[1;33m\u001b[0m\u001b[0m\n\u001b[0m\u001b[0;32m      9\u001b[0m \u001b[1;33m\u001b[0m\u001b[0m\n\u001b[0;32m     10\u001b[0m \u001b[1;31m# What is the result of running this code? If you aren't sure, try running it on your own computer!\u001b[0m\u001b[1;33m\u001b[0m\u001b[1;33m\u001b[0m\u001b[1;33m\u001b[0m\u001b[0m\n",
      "\u001b[1;32m~\\AppData\\Local\\Temp\\ipykernel_2128\\2151010175.py\u001b[0m in \u001b[0;36mbuy_eggs\u001b[1;34m()\u001b[0m\n\u001b[0;32m      4\u001b[0m \u001b[1;33m\u001b[0m\u001b[0m\n\u001b[0;32m      5\u001b[0m \u001b[1;32mdef\u001b[0m \u001b[0mbuy_eggs\u001b[0m\u001b[1;33m(\u001b[0m\u001b[1;33m)\u001b[0m\u001b[1;33m:\u001b[0m\u001b[1;33m\u001b[0m\u001b[1;33m\u001b[0m\u001b[0m\n\u001b[1;32m----> 6\u001b[1;33m     \u001b[0megg_count\u001b[0m \u001b[1;33m+=\u001b[0m \u001b[1;36m12\u001b[0m \u001b[1;31m# purchase a dozen eggs\u001b[0m\u001b[1;33m\u001b[0m\u001b[1;33m\u001b[0m\u001b[0m\n\u001b[0m\u001b[0;32m      7\u001b[0m \u001b[1;33m\u001b[0m\u001b[0m\n\u001b[0;32m      8\u001b[0m \u001b[0mbuy_eggs\u001b[0m\u001b[1;33m(\u001b[0m\u001b[1;33m)\u001b[0m\u001b[1;33m\u001b[0m\u001b[1;33m\u001b[0m\u001b[0m\n",
      "\u001b[1;31mUnboundLocalError\u001b[0m: local variable 'egg_count' referenced before assignment"
     ]
    }
   ],
   "source": [
    "# Quiz Question\n",
    "# Read through this code snippet:\n",
    "egg_count = 0\n",
    "\n",
    "def buy_eggs():\n",
    "    egg_count += 12 # purchase a dozen eggs\n",
    "\n",
    "buy_eggs()\n",
    "\n",
    "# What is the result of running this code? If you aren't sure, try running it on your own computer!"
   ]
  },
  {
   "cell_type": "markdown",
   "metadata": {},
   "source": [
    "This causes an UnboundLocalError, since Python doesn't allow functions to modify variables that are outside the function's scope.<br>A better way would be to pass the variable as an argument and reassign it outside the function.<br> See more on this in the next page."
   ]
  },
  {
   "cell_type": "code",
   "execution_count": null,
   "metadata": {},
   "outputs": [],
   "source": [
    "egg_count = 0\n",
    "\n",
    "def buy_eggs(count):\n",
    "    return count + 12  # purchase a dozen eggs\n",
    "\n",
    "egg_count = buy_eggs(egg_count)"
   ]
  },
  {
   "cell_type": "markdown",
   "metadata": {},
   "source": []
  },
  {
   "cell_type": "markdown",
   "metadata": {},
   "source": []
  },
  {
   "cell_type": "markdown",
   "metadata": {},
   "source": []
  },
  {
   "cell_type": "markdown",
   "metadata": {},
   "source": []
  },
  {
   "cell_type": "markdown",
   "metadata": {},
   "source": [
    "### Lambda Expressions\n",
    "You can use lambda expressions to create anonymous functions.<br> That is, functions that don’t have a name. <br>They are helpful for creating quick functions that aren’t needed later in your code. <br>This can be especially useful for higher order functions, or functions that take in other functions as arguments.<br>\n",
    "\n",
    "With a lambda expression, this function:"
   ]
  },
  {
   "cell_type": "code",
   "execution_count": null,
   "metadata": {},
   "outputs": [],
   "source": [
    "def multiply(x, y):\n",
    "    return x * y"
   ]
  },
  {
   "cell_type": "code",
   "execution_count": null,
   "metadata": {},
   "outputs": [
    {
     "data": {
      "text/plain": [
       "28"
      ]
     },
     "execution_count": 19,
     "metadata": {},
     "output_type": "execute_result"
    }
   ],
   "source": [
    "multiply(4, 7)"
   ]
  },
  {
   "cell_type": "code",
   "execution_count": 18,
   "metadata": {},
   "outputs": [],
   "source": [
    "multiply = lambda x, y: x * y"
   ]
  },
  {
   "cell_type": "code",
   "execution_count": 21,
   "metadata": {},
   "outputs": [
    {
     "ename": "NameError",
     "evalue": "name 'multiplylam' is not defined",
     "output_type": "error",
     "traceback": [
      "\u001b[1;31m---------------------------------------------------------------------------\u001b[0m",
      "\u001b[1;31mNameError\u001b[0m                                 Traceback (most recent call last)",
      "\u001b[1;32m~\\AppData\\Local\\Temp\\ipykernel_2128\\2386164686.py\u001b[0m in \u001b[0;36m<module>\u001b[1;34m\u001b[0m\n\u001b[1;32m----> 1\u001b[1;33m \u001b[0mmultiplylam\u001b[0m\u001b[1;33m(\u001b[0m\u001b[1;36m4\u001b[0m\u001b[1;33m,\u001b[0m \u001b[1;36m7\u001b[0m\u001b[1;33m)\u001b[0m\u001b[1;33m\u001b[0m\u001b[1;33m\u001b[0m\u001b[0m\n\u001b[0m",
      "\u001b[1;31mNameError\u001b[0m: name 'multiplylam' is not defined"
     ]
    }
   ],
   "source": [
    "multiply(4, 7)"
   ]
  },
  {
   "cell_type": "markdown",
   "metadata": {},
   "source": [
    "### Components of a Lambda Function\n",
    "1. The lambda keyword is used to indicate that this is a lambda expression.\n",
    "2. Following lambda are one or more arguments for the anonymous function separated by commas, followed by a colon :. Similar to functions, the way the arguments are named in a lambda expression is arbitrary.\n",
    "3. Last is an expression that is evaluated and returned in this function. This is a lot like an expression you might see as a return statement in a function.\n",
    "\n",
    "With this structure, lambda expressions aren’t ideal for complex functions, but can be very useful for short, simple functions."
   ]
  },
  {
   "cell_type": "markdown",
   "metadata": {},
   "source": [
    "### Quiz: Lambda Expressions\n",
    "Quiz: Lambda with Map : <br>\n",
    "map() is a higher-order built-in function that takes a function and iterable as inputs, and returns an iterator that applies the function to each element of the iterable. <br>The code below uses map() to find the mean of each list in numbers to create the list averages.<br> Give it a test run to see what happens.\n",
    "\n",
    "Rewrite this code to be more concise by replacing the mean function with a lambda expression defined within the call to map()."
   ]
  },
  {
   "cell_type": "code",
   "execution_count": 33,
   "metadata": {},
   "outputs": [
    {
     "name": "stdout",
     "output_type": "stream",
     "text": [
      "[57.0, 58.2, 50.6, 27.2]\n"
     ]
    }
   ],
   "source": [
    "numbers = [\n",
    "              [34, 63, 88, 71, 29],\n",
    "              [90, 78, 51, 27, 45],\n",
    "              [63, 37, 85, 46, 22],\n",
    "              [51, 22, 34, 11, 18]\n",
    "           ]\n",
    "\n",
    "averages = list(map(lambda x: sum(x) / len(x), numbers))\n",
    "print(averages)"
   ]
  },
  {
   "cell_type": "markdown",
   "metadata": {},
   "source": [
    "Quiz: Lambda with Filter : <br>\n",
    "filter() is a higher-order built-in function that takes a function and iterable as inputs and returns an iterator with the elements from the iterable for which the function returns True.<br> The code below uses filter() to get the names in cities that are fewer than 10 characters long to create the list short_cities.<br> Give it a test run to see what happens.<br>\n",
    "\n",
    "Rewrite this code to be more concise by replacing the is_short function with a lambda expression defined within the call to filter()."
   ]
  },
  {
   "cell_type": "code",
   "execution_count": 34,
   "metadata": {},
   "outputs": [
    {
     "name": "stdout",
     "output_type": "stream",
     "text": [
      "['Chicago', 'Denver', 'Boston']\n"
     ]
    }
   ],
   "source": [
    "cities = [\"New York City\", \"Los Angeles\", \"Chicago\", \"Mountain View\", \"Denver\", \"Boston\"]\n",
    "\n",
    "short_cities = list(filter(lambda x: len(x) < 10, cities))\n",
    "print(short_cities)"
   ]
  },
  {
   "cell_type": "code",
   "execution_count": 1,
   "metadata": {},
   "outputs": [
    {
     "name": "stderr",
     "output_type": "stream",
     "text": [
      "[NbConvertApp] Converting notebook Functions.ipynb to pdf\n",
      "[NbConvertApp] Writing 47459 bytes to notebook.tex\n",
      "[NbConvertApp] Building PDF\n",
      "Traceback (most recent call last):\n",
      "  File \"c:\\users\\monem\\appdata\\local\\programs\\python\\python37\\lib\\runpy.py\", line 193, in _run_module_as_main\n",
      "    \"__main__\", mod_spec)\n",
      "  File \"c:\\users\\monem\\appdata\\local\\programs\\python\\python37\\lib\\runpy.py\", line 85, in _run_code\n",
      "    exec(code, run_globals)\n",
      "  File \"C:\\Users\\MONEM\\AppData\\Local\\Programs\\Python\\Python37\\Scripts\\jupyter-nbconvert.EXE\\__main__.py\", line 7, in <module>\n",
      "  File \"c:\\users\\monem\\appdata\\local\\programs\\python\\python37\\lib\\site-packages\\jupyter_core\\application.py\", line 264, in launch_instance\n",
      "    return super(JupyterApp, cls).launch_instance(argv=argv, **kwargs)\n",
      "  File \"c:\\users\\monem\\appdata\\local\\programs\\python\\python37\\lib\\site-packages\\traitlets\\config\\application.py\", line 846, in launch_instance\n",
      "    app.start()\n",
      "  File \"c:\\users\\monem\\appdata\\local\\programs\\python\\python37\\lib\\site-packages\\nbconvert\\nbconvertapp.py\", line 361, in start\n",
      "    self.convert_notebooks()\n",
      "  File \"c:\\users\\monem\\appdata\\local\\programs\\python\\python37\\lib\\site-packages\\nbconvert\\nbconvertapp.py\", line 533, in convert_notebooks\n",
      "    self.convert_single_notebook(notebook_filename)\n",
      "  File \"c:\\users\\monem\\appdata\\local\\programs\\python\\python37\\lib\\site-packages\\nbconvert\\nbconvertapp.py\", line 498, in convert_single_notebook\n",
      "    output, resources = self.export_single_notebook(notebook_filename, resources, input_buffer=input_buffer)\n",
      "  File \"c:\\users\\monem\\appdata\\local\\programs\\python\\python37\\lib\\site-packages\\nbconvert\\nbconvertapp.py\", line 427, in export_single_notebook\n",
      "    output, resources = self.exporter.from_filename(notebook_filename, resources=resources)\n",
      "  File \"c:\\users\\monem\\appdata\\local\\programs\\python\\python37\\lib\\site-packages\\nbconvert\\exporters\\exporter.py\", line 190, in from_filename\n",
      "    return self.from_file(f, resources=resources, **kw)\n",
      "  File \"c:\\users\\monem\\appdata\\local\\programs\\python\\python37\\lib\\site-packages\\nbconvert\\exporters\\exporter.py\", line 208, in from_file\n",
      "    return self.from_notebook_node(nbformat.read(file_stream, as_version=4), resources=resources, **kw)\n",
      "  File \"c:\\users\\monem\\appdata\\local\\programs\\python\\python37\\lib\\site-packages\\nbconvert\\exporters\\pdf.py\", line 183, in from_notebook_node\n",
      "    self.run_latex(tex_file)\n",
      "  File \"c:\\users\\monem\\appdata\\local\\programs\\python\\python37\\lib\\site-packages\\nbconvert\\exporters\\pdf.py\", line 154, in run_latex\n",
      "    self.latex_count, log_error, raise_on_failure)\n",
      "  File \"c:\\users\\monem\\appdata\\local\\programs\\python\\python37\\lib\\site-packages\\nbconvert\\exporters\\pdf.py\", line 112, in run_command\n",
      "    \"at {link}.\".format(formatter=command_list[0], link=link))\n",
      "OSError: xelatex not found on PATH, if you have not installed xelatex you may need to do so. Find further instructions at https://nbconvert.readthedocs.io/en/latest/install.html#installing-tex.\n"
     ]
    }
   ],
   "source": [
    "! jupyter nbconvert --to pdf Functions.ipynb"
   ]
  },
  {
   "cell_type": "code",
   "execution_count": 2,
   "metadata": {},
   "outputs": [
    {
     "name": "stderr",
     "output_type": "stream",
     "text": [
      "[NbConvertApp] Converting notebook Functions.ipynb to html\n",
      "[NbConvertApp] Writing 626240 bytes to Functions.html\n"
     ]
    }
   ],
   "source": [
    "!jupyter nbconvert --to html Functions.ipynb  "
   ]
  }
 ],
 "metadata": {
  "kernelspec": {
   "display_name": "pyudavenv",
   "language": "python",
   "name": "python3"
  },
  "language_info": {
   "codemirror_mode": {
    "name": "ipython",
    "version": 3
   },
   "file_extension": ".py",
   "mimetype": "text/x-python",
   "name": "python",
   "nbconvert_exporter": "python",
   "pygments_lexer": "ipython3",
   "version": "3.7.8"
  },
  "orig_nbformat": 4
 },
 "nbformat": 4,
 "nbformat_minor": 2
}
